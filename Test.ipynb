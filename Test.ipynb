{
 "cells": [
  {
   "cell_type": "code",
   "execution_count": 146,
   "metadata": {
    "collapsed": false
   },
   "outputs": [
    {
     "ename": "SyntaxError",
     "evalue": "Non-ASCII character '\\xe3' in file artistlist.py on line 32, but no encoding declared; see http://python.org/dev/peps/pep-0263/ for details (artistlist.py, line 32)",
     "output_type": "error",
     "traceback": [
      "\u001b[0;36m  File \u001b[0;32m\"artistlist.py\"\u001b[0;36m, line \u001b[0;32m32\u001b[0m\n\u001b[0;31m    # nameにartist_pageのリンクを貼る\u001b[0m\n\u001b[0m                             ^\u001b[0m\n\u001b[0;31mSyntaxError\u001b[0m\u001b[0;31m:\u001b[0m Non-ASCII character '\\xe3' in file artistlist.py on line 32, but no encoding declared; see http://python.org/dev/peps/pep-0263/ for details\n"
     ]
    }
   ],
   "source": [
    "import artistlist\n",
    "reload(artistlist)\n",
    "import pprint"
   ]
  },
  {
   "cell_type": "code",
   "execution_count": 174,
   "metadata": {
    "collapsed": false
   },
   "outputs": [],
   "source": [
    "data = artistlist.get_data()"
   ]
  },
  {
   "cell_type": "code",
   "execution_count": 151,
   "metadata": {
    "collapsed": false
   },
   "outputs": [
    {
     "name": "stdout",
     "output_type": "stream",
     "text": [
      "Artie Vierkant | http://artievierkant.com/\n",
      "Brad Troemel | http://main.bradtroemel.com/\n",
      "Haley |\n",
      "Jesse Stecklow | http://jessestecklow.com/\n",
      "Joshua Citarella | http://joshuacitarella.com/\n",
      "Lauren | http://stadiumnyc.tumblr.com/\n",
      "Andrew Norman Wilson | http://www.andrewnormanwilson.com/\n",
      "Rachael Milton | http://rachaelmilton.net/\n",
      "Spencer Longo | http://spencerlongo.com/\n"
     ]
    }
   ],
   "source": [
    "s = data[231][\"related\"]\n",
    "lines = s.split(\"\\n\")\n",
    "print s"
   ]
  },
  {
   "cell_type": "code",
   "execution_count": 153,
   "metadata": {
    "collapsed": false
   },
   "outputs": [
    {
     "name": "stdout",
     "output_type": "stream",
     "text": [
      "[{'name': u'Artie Vierkant', 'url': u'http://artievierkant.com/'},\n",
      " {'name': u'Brad Troemel', 'url': u'http://main.bradtroemel.com/'},\n",
      " {'name': u'Haley', 'url': None},\n",
      " {'name': u'Jesse Stecklow', 'url': u'http://jessestecklow.com/'},\n",
      " {'name': u'Joshua Citarella', 'url': u'http://joshuacitarella.com/'},\n",
      " {'name': u'Lauren', 'url': u'http://stadiumnyc.tumblr.com/'},\n",
      " {'name': u'Andrew Norman Wilson',\n",
      "  'url': u'http://www.andrewnormanwilson.com/'},\n",
      " {'name': u'Rachael Milton', 'url': u'http://rachaelmilton.net/'},\n",
      " {'name': u'Spencer Longo', 'url': u'http://spencerlongo.com/'}]\n"
     ]
    }
   ],
   "source": [
    "# print repr(s)\n",
    "# lines = s.split(\"\\n\")\n",
    "# pprint.pprint(lines)\n",
    "\n",
    "ret_arr = []\n",
    "for line in lines:\n",
    "    split_line = line.split(\"|\")\n",
    "    \n",
    "    # Name is always first part of split line\n",
    "    name = split_line[0].strip()\n",
    "    \n",
    "    if (len(split_line) >= 2 and\n",
    "        len(split_line[1].strip()) > 0):\n",
    "        url = split_line[1].strip()\n",
    "    else:\n",
    "        url = None\n",
    "        \n",
    "    ret_arr.append({\"name\": name, \"url\": url})\n",
    "\n",
    "pprint.pprint(ret_arr)"
   ]
  },
  {
   "cell_type": "code",
   "execution_count": 122,
   "metadata": {
    "collapsed": false
   },
   "outputs": [
    {
     "name": "stdout",
     "output_type": "stream",
     "text": [
      "['Haley ', '']\n"
     ]
    }
   ],
   "source": [
    "test_arr = [1,2,3]\n",
    "len(test_arr)\n",
    "print \"Haley |\".split(\"|\")\n"
   ]
  },
  {
   "cell_type": "code",
   "execution_count": 156,
   "metadata": {
    "collapsed": false
   },
   "outputs": [],
   "source": [
    "import artistlist"
   ]
  },
  {
   "cell_type": "code",
   "execution_count": 157,
   "metadata": {
    "collapsed": false
   },
   "outputs": [
    {
     "data": {
      "text/plain": [
       "<module 'artistlist' from 'artistlist.py'>"
      ]
     },
     "execution_count": 157,
     "metadata": {},
     "output_type": "execute_result"
    }
   ],
   "source": [
    "reload(artistlist)"
   ]
  },
  {
   "cell_type": "code",
   "execution_count": 160,
   "metadata": {
    "collapsed": true
   },
   "outputs": [],
   "source": [
    "artistlist.cleanup()"
   ]
  },
  {
   "cell_type": "code",
   "execution_count": 178,
   "metadata": {
    "collapsed": false
   },
   "outputs": [
    {
     "data": {
      "text/plain": [
       "'teng-ben-zhuo-mo'"
      ]
     },
     "execution_count": 178,
     "metadata": {},
     "output_type": "execute_result"
    }
   ],
   "source": [
    "slugify(\"藤本卓万\")"
   ]
  },
  {
   "cell_type": "code",
   "execution_count": 194,
   "metadata": {
    "collapsed": false
   },
   "outputs": [
    {
     "name": "stdout",
     "output_type": "stream",
     "text": [
      "[u'Photo', u'Visual', u'Object']\n"
     ]
    }
   ],
   "source": [
    "t = data[15][\"tags\"]\n",
    "lines = t.split(\"\\n\")\n",
    "print lines"
   ]
  },
  {
   "cell_type": "code",
   "execution_count": 192,
   "metadata": {
    "collapsed": false
   },
   "outputs": [],
   "source": [
    "def split_tags(t):\n",
    "    ret_tags = []\n",
    "    lines = t.split\n",
    "    for line in lines:\n",
    "        split_tags = line.split(\"\\n\")\n",
    "        tags = split_tags[0].strip()\n",
    "        ret_tags.append(tags)\n",
    "    print ret_tags(tags)"
   ]
  },
  {
   "cell_type": "code",
   "execution_count": null,
   "metadata": {
    "collapsed": true
   },
   "outputs": [],
   "source": []
  }
 ],
 "metadata": {
  "kernelspec": {
   "display_name": "Python 2",
   "language": "python",
   "name": "python2"
  },
  "language_info": {
   "codemirror_mode": {
    "name": "ipython",
    "version": 2
   },
   "file_extension": ".py",
   "mimetype": "text/x-python",
   "name": "python",
   "nbconvert_exporter": "python",
   "pygments_lexer": "ipython2",
   "version": "2.7.11"
  }
 },
 "nbformat": 4,
 "nbformat_minor": 2
}
